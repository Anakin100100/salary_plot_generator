{
  "nbformat": 4,
  "nbformat_minor": 0,
  "metadata": {
    "colab": {
      "name": "Untitled7.ipynb",
      "provenance": [],
      "collapsed_sections": []
    },
    "kernelspec": {
      "name": "python3",
      "display_name": "Python 3"
    },
    "language_info": {
      "name": "python"
    }
  },
  "cells": [
    {
      "cell_type": "code",
      "execution_count": 41,
      "metadata": {
        "id": "QYOQmLdAb4Qb"
      },
      "outputs": [],
      "source": [
        "import matplotlib.pyplot as plt\n",
        "from dataclasses import dataclass"
      ]
    },
    {
      "cell_type": "code",
      "source": [
        "@dataclass\n",
        "class CompanySalary:\n",
        "  lower_bound: int\n",
        "  upper_bound: int\n",
        "  \n",
        "  def generate_salary_data_points(self):\n",
        "    return [n for n in range(self.lower_bound, self.upper_bound + 100, 100)]"
      ],
      "metadata": {
        "id": "FxssZAiBcm-F"
      },
      "execution_count": 46,
      "outputs": []
    },
    {
      "cell_type": "code",
      "source": [
        "class PlotGenerator:\n",
        "  def generate_plot_from_raw_data(self, company_salary_array):\n",
        "    company_salary_unaggreaged_data_points = []\n",
        "\n",
        "    for company_salary in company_salary_array:\n",
        "      for salary_piece in company_salary.generate_salary_data_points():\n",
        "        company_salary_unaggreaged_data_points.append(salary_piece)\n",
        "    \n",
        "    salary_x_axis = [n for n in range(0, 15100, 100)]\n",
        "    company_salary_aggreaged_data_points = [company_salary_unaggreaged_data_points.count(salary_value) for salary_value in salary_x_axis]\n",
        "    \n",
        "    plt.figure()\n",
        "    plt.plot(salary_x_axis, company_salary_aggreaged_data_points)  \n",
        "\n",
        "    plt.xlabel(\"Occuarance count\")\n",
        "    plt.ylabel(\"Salary\")\n",
        "    plt.title(\"Salary x Occurance count in 100 pln intervals\") \n",
        "\n",
        "    plt.show()\n"
      ],
      "metadata": {
        "id": "zPR3yo-iccTG"
      },
      "execution_count": 47,
      "outputs": []
    },
    {
      "cell_type": "code",
      "source": [
        "#These are salaries offered for a position of a junior Ruby on Rails developer from justjoin.it and nofluffjobs.com as of 08.05.2022\n",
        "#Feel free to use your own data here\n",
        "#The first value in the array is the lower bound and the second one is the upper bound\n",
        "\n",
        "raw_data = [\n",
        "  #Hand2band Group sp. z o.o.\n",
        "  [5000, 8400],\n",
        "  #Neubloc Polska Sp. z o.o.\n",
        "  [8000, 12000],\n",
        "  #AMT Solution\n",
        "  [5000, 8000],\n",
        "  #Hand2band Group sp. z o.o.\n",
        "  [8000, 11500],\n",
        "  #Activenow sp. z o.o.\n",
        "  [6000, 8500],\n",
        "  #AMT Solution 2\n",
        "  [5000, 9000],\n",
        "  #Railwaymen\n",
        "  [4000, 8000],\n",
        "  #Ragnarson\n",
        "  [4000, 8000],\n",
        "  #JohnnyBros Sp. z o.o.\n",
        "  [6600, 9630],\n",
        "  #Ragnarson internship\n",
        "  [4000, 8000],\n",
        "  #u2i\n",
        "  [8500, 12000],\n",
        "  #Astarium Sp z o.o.\n",
        "  [4000, 6000],\n",
        "  #POSbistro Sp. z o.o.\n",
        "  [5000, 9000],\n",
        "  #CottonBee\n",
        "  [9000, 12000],\n",
        "  #Northpass\n",
        "  [4500, 5000],\n",
        "  #Chargify\n",
        "  [4300, 4400],\n",
        "  #Global App Testing\n",
        "  [4500, 4600],\n",
        "  #BinarApps\n",
        "  [4200, 8000],\n",
        "  #Punkta.pl\n",
        "  [3500, 5500]\n",
        "]\n",
        "\n",
        "company_salary_array = [CompanySalary(raw_data_piece[0], raw_data_piece[1]) for raw_data_piece in raw_data]"
      ],
      "metadata": {
        "id": "5znc0aRIgl-0"
      },
      "execution_count": 48,
      "outputs": []
    },
    {
      "cell_type": "code",
      "source": [
        "plot_generator = PlotGenerator()\n",
        "plot_generator.generate_plot_from_raw_data(company_salary_array)"
      ],
      "metadata": {
        "colab": {
          "base_uri": "https://localhost:8080/",
          "height": 295
        },
        "id": "KXqjz8inceFo",
        "outputId": "248c0eeb-e1b3-4e4d-9d04-bd619d67cd23"
      },
      "execution_count": 49,
      "outputs": [
        {
          "output_type": "display_data",
          "data": {
            "text/plain": [
              "<Figure size 432x288 with 1 Axes>"
            ],
            "image/png": "[encoded data removed]"
          },
          "metadata": {
            "needs_background": "light"
          }
        }
      ]
    }
  ]
}